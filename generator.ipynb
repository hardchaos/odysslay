{
 "cells": [
  {
   "cell_type": "code",
   "execution_count": 1,
   "metadata": {},
   "outputs": [],
   "source": [
    "import openai\n",
    "import keyway\n",
    "import time\n",
    "\n",
    "# api key management\n",
    "kw = keyway.Keyway()\n",
    "\n",
    "# set environment variable with \n",
    "# kw[\"OPENAI_API_KEY\"] = \"your api key\"\n",
    "openai.api_key = kw[\"OPENAI_API_KEY\"]"
   ]
  },
  {
   "cell_type": "code",
   "execution_count": 5,
   "metadata": {},
   "outputs": [],
   "source": [
    "# open odyssey transcript\n",
    "with open(\"data/odyssey.txt\") as f:\n",
    "    full_text = f.readlines()"
   ]
  },
  {
   "cell_type": "code",
   "execution_count": 6,
   "metadata": {},
   "outputs": [],
   "source": [
    "# strip lines and cut into paragraphs\n",
    "full_text = [i.strip() for i in full_text][12:]\n",
    "paragraphs = \" \".join(full_text).split(\"  \")"
   ]
  },
  {
   "cell_type": "code",
   "execution_count": 9,
   "metadata": {},
   "outputs": [],
   "source": [
    "# set the context prompt to use for chat completion\n",
    "prompt = \"\"\"\n",
    "You are a cool assistant that hypes up stories in the voice of Gen-Z and Millenials. \n",
    "You _MUST_ use excessive twitter memes, lots of internet slang, and facets of modern culture.\n",
    "Your text should sound like a lit young person who lives on the internet wrote it. \n",
    "Do not use any hashtags. Do not use \"yo\". Do not use \"listen\".\n",
    "Your sentences must rhyme.\n",
    "EVERY SENTENCE AND LINE MUST RHYME AND INCLUDE A MEME REFERENCE, INTERNET SLANG, OR GEN-Z TWITTER PHRASE.\"\"\""
   ]
  },
  {
   "cell_type": "code",
   "execution_count": null,
   "metadata": {},
   "outputs": [],
   "source": [
    "# generate content and save it in groups of 100 paragraphs\n",
    "for sub_range in [range(len(paragraphs))[i:i+100] for i in range(0, len(range(len(paragraphs))), 100)]:\n",
    "\n",
    "    # this holds OpenAI's responses\n",
    "    responses = []\n",
    "\n",
    "    # for paragraph in current group\n",
    "    for i in sub_range:    \n",
    "        \n",
    "        # get line\n",
    "        paragraph = paragraphs[i]\n",
    "        print(i)\n",
    "        \n",
    "        # test if paragraph is a title\n",
    "        if paragraph.strip().startswith(\"BOOK\"):\n",
    "            print(paragraph)\n",
    "            responses.append(paragraph)\n",
    "        else:\n",
    "            messages = [\n",
    "            {\"role\": \"system\", \"content\": prompt},\n",
    "            {\"role\" : \"user\", \"content\" : paragraph}\n",
    "            ]\n",
    "            \n",
    "            # get response\n",
    "            response = openai.ChatCompletion.create(model=\"gpt-3.5-turbo\",\n",
    "                                                messages = messages)\n",
    "            response = response[\"choices\"][0][\"message\"][\"content\"]\n",
    "            responses.append(response)\n",
    "            \n",
    "            # delay to avoid getting rate limited\n",
    "            time.sleep(1)\n",
    "    \n",
    "    # write content to file\n",
    "    with open(f\"data/generated/odysslay_{sub_range[0]}_{sub_range[-1]}.txt\", \"w\", encoding = \"utf-8\") as f:\n",
    "        f.writelines([r + \"\\n\\n\" for r in responses])"
   ]
  }
 ],
 "metadata": {
  "kernelspec": {
   "display_name": "Python 3",
   "language": "python",
   "name": "python3"
  },
  "language_info": {
   "codemirror_mode": {
    "name": "ipython",
    "version": 3
   },
   "file_extension": ".py",
   "mimetype": "text/x-python",
   "name": "python",
   "nbconvert_exporter": "python",
   "pygments_lexer": "ipython3",
   "version": "3.11.2"
  },
  "orig_nbformat": 4,
  "vscode": {
   "interpreter": {
    "hash": "3e45daf00863230a827a161a48bb6a07fa17f2de93398243aa637230796bd1af"
   }
  }
 },
 "nbformat": 4,
 "nbformat_minor": 2
}
